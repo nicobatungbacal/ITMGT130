{
 "cells": [
  {
   "cell_type": "markdown",
   "metadata": {},
   "source": [
    "180573\n",
    "Batungbacal\n",
    "3 AB MEC"
   ]
  },
  {
   "cell_type": "markdown",
   "metadata": {},
   "source": [
    "### Problem 1"
   ]
  },
  {
   "cell_type": "code",
   "execution_count": 2,
   "metadata": {},
   "outputs": [],
   "source": [
    "def dollars_to_pesos(dollars):\n",
    "    pesos = dollars * 50\n",
    "    return pesos"
   ]
  },
  {
   "cell_type": "code",
   "execution_count": null,
   "metadata": {},
   "outputs": [],
   "source": [
    "dollars = float(input('Enter the amount in US Dollars: '))\n",
    "pesos = dollars_to_pesos(dollars)\n",
    "print (dollars,'US dollar(s)=',pesos,'Philippine Pesos')"
   ]
  },
  {
   "cell_type": "markdown",
   "metadata": {},
   "source": [
    "### Problem 2"
   ]
  },
  {
   "cell_type": "code",
   "execution_count": null,
   "metadata": {},
   "outputs": [],
   "source": [
    "def calculate1(a,b):\n",
    "    first = a + b\n",
    "    return first\n",
    "def calculate2(a,b):\n",
    "    second = a - b\n",
    "    return second\n",
    "def calculate3(a,b):\n",
    "    third = a * b\n",
    "    return third\n",
    "def calculate4(a,b):\n",
    "    fourth = a // b\n",
    "    return fourth\n",
    "def calculate5(a,b):\n",
    "    fifth = a % b\n",
    "    return fifth\n",
    "\n",
    "a = float(input('Input first number: '))\n",
    "b = float(input('Input second number: '))\n",
    "\n",
    "numbers1 = calculate1(a,b)\n",
    "numbers2 = calculate2(a,b)\n",
    "numbers3 = calculate3(a,b)\n",
    "numbers4 = calculate4(a,b)\n",
    "numbers5 = calculate5(a,b)\n",
    "\n",
    "print(numbers1)\n",
    "print(numbers2)\n",
    "print(numbers3)\n",
    "print(numbers4)\n",
    "print(numbers5)"
   ]
  },
  {
   "cell_type": "markdown",
   "metadata": {},
   "source": [
    "### Problem 3"
   ]
  },
  {
   "cell_type": "code",
   "execution_count": null,
   "metadata": {},
   "outputs": [],
   "source": [
    "def compute_bmi(kg,m):\n",
    "    bmi = kg / (m*m)\n",
    "    return bmi\n",
    "def convert_cm_to_m(cm):\n",
    "    m = cm / 100\n",
    "    return m\n",
    "\n",
    "kg = float(input('Enter kg: '))\n",
    "cm = float(input('Enter cm: '))\n",
    "\n",
    "m = convert_cm_to_m(cm)\n",
    "bmi = compute_bmi(kg,m)\n",
    "\n",
    "print('BMI:',bmi)"
   ]
  },
  {
   "cell_type": "code",
   "execution_count": null,
   "metadata": {},
   "outputs": [],
   "source": []
  }
 ],
 "metadata": {
  "kernelspec": {
   "display_name": "Python 3",
   "language": "python",
   "name": "python3"
  }
 },
 "nbformat": 4,
 "nbformat_minor": 4
}
