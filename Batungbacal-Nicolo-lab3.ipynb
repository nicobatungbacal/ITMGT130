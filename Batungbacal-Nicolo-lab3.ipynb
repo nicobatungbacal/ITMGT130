{
 "cells": [
  {
   "cell_type": "markdown",
   "metadata": {},
   "source": [
    "180573\n",
    "Batungbacal\n",
    "3 AB MEC"
   ]
  },
  {
   "cell_type": "markdown",
   "metadata": {},
   "source": [
    "### Problem 1"
   ]
  },
  {
   "cell_type": "code",
   "execution_count": 25,
   "metadata": {},
   "outputs": [],
   "source": [
    "social_graph = {\n",
    "    \"@bongolpoc\":{\"first_name\":\"Joselito\",\n",
    "                  \"last_name\":\"Olpoc\",\n",
    "                  \"following\":[\n",
    "                  ]\n",
    "    },\n",
    "    \"@joaquin\":  {\"first_name\":\"Joaquin\",\n",
    "                  \"last_name\":\"Gonzales\",\n",
    "                  \"following\":[\n",
    "                      \"@chums\",\"@jobenilagan\"\n",
    "                  ]\n",
    "    },\n",
    "    \"@chums\" : {\"first_name\":\"Matthew\",\n",
    "                \"last_name\":\"Uy\",\n",
    "                \"following\":[\n",
    "                    \"@bongolpoc\",\"@miketan\",\"@rudyang\",\"@joeilagan\"\n",
    "                ]\n",
    "    },\n",
    "    \"@jobenilagan\":{\"first_name\":\"Joben\",\n",
    "                   \"last_name\":\"Ilagan\",\n",
    "                   \"following\":[\n",
    "                    \"@eeebeee\",\"@joeilagan\",\"@chums\",\"@joaquin\"\n",
    "                   ]\n",
    "    },\n",
    "    \"@joeilagan\":{\"first_name\":\"Joe\",\n",
    "                  \"last_name\":\"Ilagan\",\n",
    "                  \"following\":[\n",
    "                    \"@eeebeee\",\"@jobenilagan\",\"@chums\"\n",
    "                  ]\n",
    "    },\n",
    "    \"@eeebeee\":  {\"first_name\":\"Elizabeth\",\n",
    "                  \"last_name\":\"Ilagan\",\n",
    "                  \"following\":[\n",
    "                    \"@jobenilagan\",\"@joeilagan\"\n",
    "                  ]\n",
    "    },\n",
    "}"
   ]
  },
  {
   "cell_type": "code",
   "execution_count": 27,
   "metadata": {},
   "outputs": [
    {
     "name": "stdout",
     "output_type": "stream",
     "text": [
      "Followed by\n"
     ]
    }
   ],
   "source": [
    "def relationship_status(from_member, to_member):\n",
    "    following1 = social_graph[from_member]['following']\n",
    "    following2 = social_graph[to_member]['following']\n",
    "    \n",
    "    if to_member in following1:\n",
    "        if from_member in following2:\n",
    "            return 'Friends'\n",
    "        else:\n",
    "            return 'Following'\n",
    "    else:\n",
    "        if from_member in following2:\n",
    "            return 'Followed by'\n",
    "        else:\n",
    "            return None\n",
    "            \n",
    "print(relationship_status('@bongolpoc','@chums'))"
   ]
  },
  {
   "cell_type": "markdown",
   "metadata": {},
   "source": [
    "### Problem 2"
   ]
  },
  {
   "cell_type": "code",
   "execution_count": 10,
   "metadata": {},
   "outputs": [],
   "source": [
    "board1 = [\n",
    "['X','X','O'],\n",
    "['O','X','O'],\n",
    "['O','','X'],\n",
    "]\n",
    "\n",
    "board2 = [\n",
    "['X','X','O'],\n",
    "['O','X','O'],\n",
    "['','O','X'],\n",
    "]\n",
    "\n",
    "board3 = [\n",
    "['O','X','O'],\n",
    "['','O','X'],\n",
    "['X','X','O'],\n",
    "]\n",
    "\n",
    "board4 = [\n",
    "['X','X','X'],\n",
    "['O','X','O'],\n",
    "['O','','O'],\n",
    "]\n",
    "\n",
    "board5 = [\n",
    "['X','X','O'],\n",
    "['O','X','O'],\n",
    "['X','','O'],\n",
    "]\n",
    "\n",
    "board6 = [\n",
    "['X','X','O'],\n",
    "['O','X','O'],\n",
    "['X','',''],\n",
    "]\n"
   ]
  },
  {
   "cell_type": "code",
   "execution_count": 23,
   "metadata": {},
   "outputs": [
    {
     "name": "stdout",
     "output_type": "stream",
     "text": [
      "None\n"
     ]
    }
   ],
   "source": [
    "def get_winner(board):\n",
    "    winner = None\n",
    "    from_upper_diagonal = [board[i][i] for i in range(3)]\n",
    "    from_lower_diagonal = [board[3-1-i][i] for i in range(3)]\n",
    "    first_column = [i for i in zip(*board)][0]\n",
    "    second_column = [i for i in zip(*board)][1]\n",
    "    third_column = [i for i in zip(*board)][2]\n",
    "    first_row = board[0]\n",
    "    second_row = board[1]\n",
    "    third_row = board[2]\n",
    "    \n",
    "    if len(set(from_upper_diagonal))==1:\n",
    "        winner = from_upper_diagonal[0]\n",
    "        \n",
    "    elif len(set(from_lower_diagonal))==1:\n",
    "        winner = from_lower_diagonal[0]\n",
    "        \n",
    "    elif len(set(first_column))==1:\n",
    "        winner = first_column[0]\n",
    "        \n",
    "    elif len(set(second_column))==1:\n",
    "        winner = second_column[0]\n",
    "        \n",
    "    elif len(set(third_column))==1:\n",
    "        winner = third_column[0]\n",
    "        \n",
    "    elif len(set(first_row))==1:\n",
    "        winner = first_row[0]\n",
    "        \n",
    "    elif len(set(second_row))==1:\n",
    "        winner = second_row[0]\n",
    "        \n",
    "    elif len(set(third_row))==1:\n",
    "        winner = third_row[0]\n",
    "        \n",
    "    else:\n",
    "        pass\n",
    "        \n",
    "    return winner\n",
    "    \n",
    "print(get_winner(board6))"
   ]
  },
  {
   "cell_type": "markdown",
   "metadata": {},
   "source": [
    "### Problem 3\n",
    "\n",
    "During the pandemic, a shuttle van service is tasked to travel along a predefined circular route as follows:\n",
    "\n",
    "- UP Diliman->Ateneo de Manila (Estimated Time: 10 mins)\n",
    "- Ateneo de Manila->De La Salle Taft (Estimated Time: 35 mins)\n",
    "- De La Salle Taft->UP Diliman (Estimated Time: 55 mins)\n",
    "\n",
    "The route is one-way only. So, the van cannot go back directly to UP Diliman from Ateneo de Manila; rather, it will have to drop by De La Salle Taft first before going to UP Diliman.\n",
    "\n",
    "Write a function called eta that accepts the source and destination of the van and returns the estimated number of minutes to reach the destination."
   ]
  },
  {
   "cell_type": "code",
   "execution_count": 48,
   "metadata": {},
   "outputs": [
    {
     "name": "stdout",
     "output_type": "stream",
     "text": [
      "90\n"
     ]
    }
   ],
   "source": [
    "locations = {\n",
    "    \"admu\":{\n",
    "        \"name\":\"Ateneo de Manila University\",\n",
    "        \"latitude\":14.6394557,\n",
    "        \"longitude\":121.0758975        \n",
    "    },\n",
    "    \"upd\":{\n",
    "        \"name\":\"University of the Philippines-Diliman Campus\",\n",
    "        \"latitude\":14.6538519,\n",
    "        \"longitude\":121.0663348\n",
    "    },\n",
    "    \"dlsu\":{\n",
    "        \"name\":\"De La Salle University-Taft\",\n",
    "        \"latitude\":14.5647346,\n",
    "        \"longitude\":120.9909876\n",
    "\n",
    "    }, # <-- Note that Python does not complain about this extra comma. This is perfectly okay.\n",
    "       #     The creators of Python saw that dictionaries tend to be changed a lot, so allowing this is a\n",
    "       #     convenience for developers who need to add elements when needed.\n",
    "}\n",
    "\n",
    "legs = {\n",
    "     (\"upd\",\"admu\"):{\n",
    "         \"travel_time_mins\":10\n",
    "     },\n",
    "     (\"admu\",\"dlsu\"):{\n",
    "         \"travel_time_mins\":35\n",
    "     },\n",
    "     (\"dlsu\",\"upd\"):{\n",
    "         \"travel_time_mins\":55\n",
    "     }\n",
    "}\n",
    "\n",
    "def eta(source,destination):\n",
    "    \n",
    "    for s in legs.keys():\n",
    "        if source == s[0]:\n",
    "            trip1 = legs[s]['travel_time_mins']\n",
    "            if destination == s[1]:\n",
    "                return trip1\n",
    "            else:\n",
    "                for d in legs.keys():\n",
    "                    if destination == d[1]:\n",
    "                        trip2 = legs[d]['travel_time_mins']\n",
    "                        return int(trip1)+int(trip2)\n",
    "                    \n",
    "print(eta('admu','upd'))\n",
    "\n",
    "    \n",
    "    \n",
    "    \n",
    "\n",
    "    "
   ]
  },
  {
   "cell_type": "code",
   "execution_count": null,
   "metadata": {},
   "outputs": [],
   "source": []
  }
 ],
 "metadata": {
  "kernelspec": {
   "display_name": "Python 3",
   "language": "python",
   "name": "python3"
  }
 },
 "nbformat": 4,
 "nbformat_minor": 4
}
