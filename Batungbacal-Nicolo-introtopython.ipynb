    "def three_number_average(one,two,three):\n",
    "    average = (float(one) + float(two) + float(three)) / 3\n",
    "    return average"
    "one = float(input('Enter first number: '))\n",
    "two = float(input('Enter second number: '))\n",
    "three = float(input('Enter third number: '))\n",
    "average = three_number_average(one,two,three)\n",
    "\n",
    "if one < 0 or two < 0 or three < 0:\n",
    "    print('We do not accept negative numbers.')\n",
    "else:\n",
    "    print('The average is', average)"
