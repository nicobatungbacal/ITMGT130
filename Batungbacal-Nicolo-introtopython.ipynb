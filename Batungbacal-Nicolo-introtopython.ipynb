{
 "cells": [
  {
   "cell_type": "markdown",
   "metadata": {},
   "source": [
    "180573\n",
    "Batungbacal\n",
    "3 AB MEC"
   ]
  },
  {
   "cell_type": "code",
   "execution_count": 15,
   "metadata": {},
   "outputs": [],
   "source": [
    "def three_number_average(one,two,three):\n",
    "    average = (float(one) + float(two) + float(three)) / 3\n",
    "    return average"
   ]
  },
  {
   "cell_type": "code",
   "execution_count": 19,
   "metadata": {},
   "outputs": [
    {
     "name": "stdout",
     "output_type": "stream",
     "text": [
      "Enter first number: 3\n",
      "Enter second number: 4\n",
      "Enter third number: 5\n",
      "The average is 4.0\n"
     ]
    }
   ],
   "source": [
    "one = float(input('Enter first number: '))\n",
    "two = float(input('Enter second number: '))\n",
    "three = float(input('Enter third number: '))\n",
    "average = three_number_average(one,two,three)\n",
    "\n",
    "if one < 0 or two < 0 or three < 0:\n",
    "    print('We do not accept negative numbers.')\n",
    "else:\n",
    "    print('The average is', average)"
   ]
  },
  {
   "cell_type": "code",
   "execution_count": null,
   "metadata": {},
   "outputs": [],
   "source": []
  }
 ],
 "metadata": {
  "kernelspec": {
   "display_name": "Python 3",
   "language": "python",
   "name": "python3"
  }
 },
 "nbformat": 4,
 "nbformat_minor": 4
}
